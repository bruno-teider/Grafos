{
  "nbformat": 4,
  "nbformat_minor": 0,
  "metadata": {
    "colab": {
      "provenance": [],
      "authorship_tag": "ABX9TyO1VHtncMdYHZOwgue5HJvj",
      "include_colab_link": true
    },
    "kernelspec": {
      "name": "python3",
      "display_name": "Python 3"
    },
    "language_info": {
      "name": "python"
    }
  },
  "cells": [
    {
      "cell_type": "markdown",
      "metadata": {
        "id": "view-in-github",
        "colab_type": "text"
      },
      "source": [
        "<a href=\"https://colab.research.google.com/github/bruno-teider/Grafos/blob/main/Grafo_Matriz_Adjac%C3%AAncias.ipynb\" target=\"_parent\"><img src=\"https://colab.research.google.com/assets/colab-badge.svg\" alt=\"Open In Colab\"/></a>"
      ]
    },
    {
      "cell_type": "code",
      "execution_count": 1,
      "metadata": {
        "id": "8ya7u-HIXyKa"
      },
      "outputs": [],
      "source": [
        "import numpy as np\n",
        "\n",
        "class Grafo:\n",
        "  def __init__(self, n_vertices):\n",
        "    self.ordem = n_vertices\n",
        "    self.tamanho = 0\n",
        "    self.matriz_adjacencias = np.ones((self.ordem, self.ordem)) * np.inf\n",
        "\n",
        "  def __str__(self):\n",
        "    return self.imprime_matriz()\n",
        "\n",
        "  def imprime_matriz(self):\n",
        "    print(\"matriz de adjacencias:\")\n",
        "    for i in range(self.ordem):\n",
        "      print(f\"{i}: {self.matriz_adjacencias[i]}\")\n",
        "    return \"\"\n",
        "\n",
        "  def tem_aresta(self,u,v):\n",
        "    if self.matriz_adjacencias[u,v] ==np.inf:\n",
        "      return False\n",
        "    else:\n",
        "      return True\n",
        "\n",
        "  def adiciona_aresta(self,u,v,peso):\n",
        "      if u > self.ordem-1 or v > self.ordem-1:\n",
        "        print(\"A posicao do vertice u ou v e invalida. Aresta nao incluida\")\n",
        "      else:\n",
        "        if not self.tem_aresta(u,v):\n",
        "          self.tamanho+=1\n",
        "        self.matriz_adjacencias[u,v] = peso\n",
        "  def remove_aresta(self,u,v):\n",
        "    if self.tem_aresta(u,v):\n",
        "      self.matriz_adjacencias[u,v] = np.inf\n",
        "      self.tamanho-=1\n",
        "    else:\n",
        "      print(\"Aresta nao existe\")\n",
        "  def grau_entrada(self, u):\n",
        "    grau_entrada = 0\n",
        "    for i in range(self.ordem):\n",
        "      if self.tem_aresta(i,u):\n",
        "        grau_entrada+=1\n",
        "      return grau_entrada\n",
        "\n",
        "  def grau_saida(self, u):\n",
        "      grau_saida = 0\n",
        "      for i in range(self.ordem):\n",
        "        if self.tem_aresta(u,i):\n",
        "          grau_saida+=1\n",
        "        return grau_saida\n",
        "  def grau(self, u):\n",
        "    grau = 0\n",
        "    for i in range(self.ordem):\n",
        "        if self.tem_aresta(u,i):\n",
        "          grau+=1\n",
        "        if self.tem_aresta(i,u):\n",
        "          grau+=1\n",
        "    return grau\n",
        "\n",
        "  def eh_denso(self):\n",
        "    if self.tamanho > self.get_max_arestas() * 0.9:\n",
        "      return True\n",
        "    else:\n",
        "      return False\n",
        "  def get_max_arestas(self):\n",
        "    return np.power(self.ordem,2) -self.ordem\n",
        "\n",
        "\n",
        "  def adiciona_vertice(self):\n",
        "    self.matriz_adjacencias = np.hstack((self.matriz_adjacencias, np.ones((self.ordem, 1)) * np.inf))\n",
        "    self.matriz_adjacencias = np.vstack((self.matriz_adjacencias, np.ones(self.ordem + 1) * np.inf))\n",
        "    self.ordem += 1  # Increment"
      ]
    },
    {
      "cell_type": "code",
      "source": [
        "G = Grafo(5)\n",
        "G.adiciona_aresta(0,3,10)\n",
        "G.adiciona_aresta(0,4,10)\n",
        "G.adiciona_aresta(0,2,10)\n",
        "G.remove_aresta(4,3)\n",
        "\n",
        "G.adiciona_vertice()\n",
        "G.eh_denso()\n",
        "\n",
        "print(G)"
      ],
      "metadata": {
        "colab": {
          "base_uri": "https://localhost:8080/"
        },
        "id": "F1F5KwedX4am",
        "outputId": "bb6bfc8f-c6fd-4e70-f29f-0e72a6148158"
      },
      "execution_count": 2,
      "outputs": [
        {
          "output_type": "stream",
          "name": "stdout",
          "text": [
            "Aresta nao existe\n",
            "matriz de adjacencias:\n",
            "0: [inf inf 10. 10. 10. inf]\n",
            "1: [inf inf inf inf inf inf]\n",
            "2: [inf inf inf inf inf inf]\n",
            "3: [inf inf inf inf inf inf]\n",
            "4: [inf inf inf inf inf inf]\n",
            "5: [inf inf inf inf inf inf]\n",
            "\n"
          ]
        }
      ]
    }
  ]
}